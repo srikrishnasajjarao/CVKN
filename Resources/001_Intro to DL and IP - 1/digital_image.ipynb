{
 "cells": [
  {
   "cell_type": "markdown",
   "id": "5028a2a3",
   "metadata": {},
   "source": [
    "## What is a Digital Image?\n",
    "\n",
    "A **digital image** is a picture represented in a digital format—that is, as a grid of tiny elements called **pixels** (short for *picture elements*).\n",
    "\n",
    "- Each pixel holds a value (or values) that describe the **color** or **intensity** at that point.\n",
    "- The image is stored as a **matrix of these pixel values**.\n",
    "- Depending on the type of image, each pixel can be a **single number** or **multiple numbers**.\n",
    "\n",
    "### Types of Digital Images:\n",
    "\n",
    "- **Grayscale image** – Each pixel has one value (brightness) ranging from `0` (black) to `255` (white).\n",
    "- **Binary image** – Only two values: `0` (black) or `1` (white).\n",
    "- **Color image** – Each pixel has **three values** (commonly **R, G, and B** channels).\n",
    "\n",
    "\n",
    "\n",
    "| Type        | Pixel Values         | Matrix Shape    | Use Case                          |\n",
    "|-------------|----------------------|------------------|-----------------------------------|\n",
    "| Grayscale   | 0–255                | 2D (H x W)       | Medical imaging, old photos       |\n",
    "| Binary      | 0 or 1 (or 255)      | 2D (H x W)       | Thresholding, masks               |\n",
    "| Color (RGB) | (R, G, B) values     | 3D (H x W x 3)   | Photography, videos, graphics     |\n"
   ]
  },
  {
   "cell_type": "code",
   "execution_count": 5,
   "id": "ad1dea09",
   "metadata": {},
   "outputs": [
    {
     "data": {
      "image/png": "[encoded data removed]",
      "text/plain": [
       "<Figure size 1200x400 with 3 Axes>"
      ]
     },
     "metadata": {},
     "output_type": "display_data"
    }
   ],
   "source": [
    "import numpy as np\n",
    "import matplotlib.pyplot as plt\n",
    "\n",
    "# 1. Binary Image (0 = black, 1 = white)\n",
    "binary_image = np.array([\n",
    "    [0, 1, 0, 1],\n",
    "    [1, 0, 1, 0],\n",
    "    [0, 0, 1, 1],\n",
    "    [1, 1, 0, 0]\n",
    "], dtype=np.uint8)\n",
    "\n",
    "# 2. Grayscale Image (values from 0 to 255)\n",
    "grayscale_image = np.array([\n",
    "    [  0,  50, 100, 150],\n",
    "    [200, 255, 180, 130],\n",
    "    [ 60,  90, 110, 140],\n",
    "    [210,  30,  75,  15]\n",
    "], dtype=np.uint8)\n",
    "\n",
    "# 3. Color (RGB) Image (each pixel has [R, G, B])\n",
    "color_image = np.array([\n",
    "    [[255,   0,   0], [  0, 255,   0], [  0,   0, 255], [255, 255,   0]],  # red, green, blue, yellow\n",
    "    [[255, 165,   0], [128,   0, 128], [  0, 255, 255], [255, 192, 203]],  # orange, purple, cyan, pink\n",
    "    [[192, 192, 192], [128, 128, 128], [  0,   0,   0], [255, 255, 255]],  # gray tones\n",
    "    [[ 75,   0, 130], [139,  69,  19], [ 46, 139,  87], [ 70, 130, 180]]   # indigo, brown, sea green, steel blue\n",
    "], dtype=np.uint8)\n",
    "\n",
    "# Plotting all images\n",
    "fig, axs = plt.subplots(1, 3, figsize=(12, 4))\n",
    "\n",
    "# Binary (use cmap='gray' and vmin/vmax to show clearly)\n",
    "axs[0].imshow(binary_image, cmap='gray', vmin=0, vmax=1)\n",
    "axs[0].set_title(\"Binary Image\")\n",
    "\n",
    "# Grayscale\n",
    "axs[1].imshow(grayscale_image, cmap='gray')\n",
    "axs[1].set_title(\"Grayscale Image\")\n",
    "\n",
    "# Color\n",
    "axs[2].imshow(color_image)\n",
    "axs[2].set_title(\"Color Image\")\n",
    "\n",
    "# Remove axes\n",
    "for ax in axs:\n",
    "    ax.axis('off')\n",
    "\n",
    "plt.tight_layout()\n",
    "plt.show()\n"
   ]
  },
  {
   "cell_type": "markdown",
   "id": "a47491a5",
   "metadata": {},
   "source": [
    "### ❓ Doubt: Why does a grayscale image show weird colors when `cmap='gray'` is not specified?\n",
    "\n",
    "When I replaced the color image's matrix with a grayscale image (2D array), I noticed something strange:\n",
    "- If I just display the image with `plt.imshow(image)`, I see a colorful image (like a heatmap).\n",
    "- But if I use `plt.imshow(image, cmap='gray')`, I get the correct grayscale display.\n",
    "\n",
    "### ✅ Answer:\n",
    "\n",
    "This happens because **Matplotlib interprets 2D arrays as heatmaps by default**, not as grayscale images.\n",
    "\n",
    "#### Explanation:\n",
    "- A **grayscale image** is a 2D array where each value represents intensity (0 = black, 255 = white).\n",
    "- If you don’t specify `cmap='gray'`, Matplotlib uses its **default colormap** (`'viridis'` or `'jet'`) to display the image — which results in **false colors**.\n",
    "- By setting `cmap='gray'`, you explicitly tell Matplotlib to interpret the pixel values as **grayscale intensities**."
   ]
  },
  {
   "cell_type": "code",
   "execution_count": 4,
   "id": "d5151489",
   "metadata": {},
   "outputs": [
    {
     "data": {
      "image/png": "[encoded data removed]",
      "text/plain": [
       "<Figure size 640x480 with 2 Axes>"
      ]
     },
     "metadata": {},
     "output_type": "display_data"
    }
   ],
   "source": [
    "import numpy as np\n",
    "import matplotlib.pyplot as plt\n",
    "\n",
    "gray_img = np.array([\n",
    "    [0, 85, 170, 255],\n",
    "    [255, 170, 85, 0],\n",
    "    [50, 100, 150, 200],\n",
    "    [200, 150, 100, 50]\n",
    "], dtype=np.uint8)\n",
    "\n",
    "plt.subplot(1, 2, 1)\n",
    "plt.imshow(gray_img)\n",
    "plt.title(\"Default colormap\")\n",
    "\n",
    "plt.subplot(1, 2, 2)\n",
    "plt.imshow(gray_img, cmap='gray')\n",
    "plt.title(\"With cmap='gray'\")\n",
    "\n",
    "plt.show()"
   ]
  },
  {
   "cell_type": "code",
   "execution_count": null,
   "id": "182c906d",
   "metadata": {},
   "outputs": [],
   "source": []
  }
 ],
 "metadata": {
  "kernelspec": {
   "display_name": ".venv",
   "language": "python",
   "name": "python3"
  },
  "language_info": {
   "codemirror_mode": {
    "name": "ipython",
    "version": 3
   },
   "file_extension": ".py",
   "mimetype": "text/x-python",
   "name": "python",
   "nbconvert_exporter": "python",
   "pygments_lexer": "ipython3",
   "version": "3.10.16"
  }
 },
 "nbformat": 4,
 "nbformat_minor": 5
}
