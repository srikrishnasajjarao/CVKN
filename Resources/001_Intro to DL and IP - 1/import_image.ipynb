{
 "cells": [
  {
   "cell_type": "markdown",
   "id": "93934a4f",
   "metadata": {},
   "source": [
    "## Ways to Import and Work with Images in Python\n",
    "\n",
    "In Python, there are multiple libraries available for image processing and manipulation. However, not all of them provide an `Image` class like Pillow does. Some return NumPy arrays directly, while others offer high-level objects.\n",
    "\n",
    "Understanding which library to use—and what kind of object it returns—is important depending on your task (e.g., editing, analyzing, or displaying images).\n",
    "\n",
    "Below is a comparison of popular libraries and their behavior when importing or handling images:\n",
    "\n",
    "### Comparison Table\n",
    "\n",
    "| Library         | Import Method              | Returns           | Image class? |\n",
    "|-----------------|----------------------------|--------------------|--------------|\n",
    "| Pillow (PIL)    | `from PIL import Image`     | `PIL.Image` object | ✅ Yes       |\n",
    "| Pillow (alt)    | `import PIL.Image`          | `PIL.Image` object | ✅ Yes       |\n",
    "| OpenCV          | `import cv2`                | NumPy array        | ❌ No        |\n",
    "| Matplotlib      | `import matplotlib.image`   | NumPy array        | ❌ No        |\n",
    "| Scikit-image    | `from skimage import io`    | NumPy array        | ❌ No        |\n",
    "\n",
    "### Notes:\n",
    "- **Pillow (PIL)** is the standard library for image manipulation and supports advanced image processing like filtering, rotating, resizing, and format conversion.\n",
    "- **OpenCV** is widely used for computer vision tasks; it reads images as BGR (not RGB) NumPy arrays.\n",
    "- **Matplotlib** is used primarily for plotting but can also load images for display.\n",
    "- **Scikit-image** is excellent for image analysis and transformations but doesn’t use an `Image` object.\n",
    "\n",
    "### Recommendation\n",
    "For image editing and file manipulation, use **Pillow**. For tasks like object detection or deep learning preprocessing, **OpenCV** or **scikit-image** is often preferred because of their NumPy-based workflows.\n",
    "\n"
   ]
  },
  {
   "cell_type": "code",
   "execution_count": 1,
   "id": "a947a799",
   "metadata": {},
   "outputs": [],
   "source": [
    "from PIL import Image"
   ]
  },
  {
   "cell_type": "code",
   "execution_count": 2,
   "id": "513ca65f",
   "metadata": {},
   "outputs": [],
   "source": [
    "import PIL.Image"
   ]
  },
  {
   "cell_type": "code",
   "execution_count": null,
   "id": "3cf3931f",
   "metadata": {},
   "outputs": [],
   "source": []
  }
 ],
 "metadata": {
  "kernelspec": {
   "display_name": ".venv",
   "language": "python",
   "name": "python3"
  },
  "language_info": {
   "codemirror_mode": {
    "name": "ipython",
    "version": 3
   },
   "file_extension": ".py",
   "mimetype": "text/x-python",
   "name": "python",
   "nbconvert_exporter": "python",
   "pygments_lexer": "ipython3",
   "version": "3.10.16"
  }
 },
 "nbformat": 4,
 "nbformat_minor": 5
}
